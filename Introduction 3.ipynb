{
 "cells": [
  {
   "cell_type": "markdown",
   "metadata": {},
   "source": [
    "# Exercise\n",
    "\n",
    "The goal of this exercise is to create a shuffled deck of cards"
   ]
  },
  {
   "cell_type": "markdown",
   "metadata": {},
   "source": [
    "## Assignment 1\n",
    "Create a deck of cards, AKQJ1098765432, SHDC"
   ]
  },
  {
   "cell_type": "code",
   "execution_count": 25,
   "metadata": {},
   "outputs": [],
   "source": [
    "# define the suits and values\n",
    "suits = [\"S\", \"H\", \"D\", \"C\"]\n",
    "values = [\"A\", \"K\", \"Q\", \"J\", \"10\", \"9\", \"8\", \"7\", \"6\", \"5\", \"4\", \"3\", \"2\"]\n",
    "\n",
    "# create an empty list for the deck\n",
    "deck = []\n",
    "\n",
    "for suit in suits:\n",
    "    for value in values:\n",
    "        # append the combinations of suit and value to the deck\n",
    "        deck.append(suit+value)"
   ]
  },
  {
   "cell_type": "markdown",
   "metadata": {},
   "source": [
    "## Assignment 2\n",
    "Shuffle the deck using random.randint"
   ]
  },
  {
   "cell_type": "code",
   "execution_count": 26,
   "metadata": {},
   "outputs": [],
   "source": [
    "# import randint\n",
    "from random import randint"
   ]
  },
  {
   "cell_type": "code",
   "execution_count": 27,
   "metadata": {},
   "outputs": [],
   "source": [
    "# create an empty list for the shuffled deck\n",
    "shuffled_deck = []\n",
    "\n",
    "for i in range(len(deck)):\n",
    "    # create a random integer between 0 and the remaining length of the deck\n",
    "    random_index = randint(0, len(deck)-1)\n",
    "    \n",
    "    # use pop to select and remove the card from the deck\n",
    "    random_card = deck.pop(random_index)\n",
    "    # and append it to the shuffled deck\n",
    "    shuffled_deck.append(random_card)"
   ]
  },
  {
   "cell_type": "markdown",
   "metadata": {},
   "source": [
    "## Assignment 3\n",
    "Write your shuffle code into a function which returns the shuffled deck"
   ]
  },
  {
   "cell_type": "code",
   "execution_count": 28,
   "metadata": {},
   "outputs": [],
   "source": [
    "def shuffle(deck):\n",
    "    # create an empty list for the shuffled deck\n",
    "    shuffled_deck = []\n",
    "\n",
    "    for i in range(len(deck)):\n",
    "        # create a random integer between 0 and the remaining length of the deck\n",
    "        random_index = randint(0, len(deck)-1)\n",
    "        \n",
    "        # use pop to select and remove the card from the deck\n",
    "        random_card = deck.pop(random_index)\n",
    "        # and append it to the shuffled deck\n",
    "        shuffled_deck.append(random_card)\n",
    "        \n",
    "    return shuffled_deck"
   ]
  },
  {
   "cell_type": "code",
   "execution_count": null,
   "metadata": {},
   "outputs": [],
   "source": []
  }
 ],
 "metadata": {
  "kernelspec": {
   "display_name": "Python 3.7.6 64-bit ('base': conda)",
   "language": "python",
   "name": "python37664bitbaseconda5295a49bd5ab4464bf0059178a389638"
  },
  "language_info": {
   "codemirror_mode": {
    "name": "ipython",
    "version": 3
   },
   "file_extension": ".py",
   "mimetype": "text/x-python",
   "name": "python",
   "nbconvert_exporter": "python",
   "pygments_lexer": "ipython3",
   "version": "3.7.9"
  }
 },
 "nbformat": 4,
 "nbformat_minor": 4
}
