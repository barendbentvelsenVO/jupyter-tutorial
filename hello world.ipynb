{
 "cells": [
  {
   "cell_type": "markdown",
   "metadata": {},
   "source": [
    "# Introduction to functions in python\n",
    "\n",
    "A function in Python executes lines of code. \n",
    "\n",
    "This is useful because it saves a lot of work if you have to run the same code several times. Instead of writing out all your code you can just use a function.\n",
    "\n",
    "Functions are defined by using `def`, the function name, and input values between parenthesis and a colon to start writing the lines of code.\n",
    "See the following example:"
   ]
  },
  {
   "cell_type": "code",
   "execution_count": null,
   "metadata": {},
   "outputs": [],
   "source": [
    "def hello_world():\n",
    "    print(\"hello world!\")"
   ]
  },
  {
   "cell_type": "markdown",
   "metadata": {},
   "source": [
    "Note that the whitespace before `print(\"hello world!\")` is not trivial. This will be something we will come back to later."
   ]
  },
  {
   "cell_type": "markdown",
   "metadata": {},
   "source": [
    "### Some basics\n",
    "\n",
    "In Python you can include a comment by using `#`. This is used throughout this notebook to give some extra information in the code blocks.\n",
    "\n",
    "Jupyter itself consists of code and markdown blocks. The code blocks is where the Python code is written and executed, the markdown blocks is where text is written and formatted using 'markdown' (the block you are reading now for example).\n",
    "\n",
    "For a quick introduction you can do the 'User Interface Tour' which can be found under 'Help' at the top of the screen."
   ]
  },
  {
   "cell_type": "markdown",
   "metadata": {},
   "source": [
    "### Calling a function\n",
    "A function is called by using the parenthesis after the name."
   ]
  },
  {
   "cell_type": "code",
   "execution_count": null,
   "metadata": {},
   "outputs": [],
   "source": [
    "# call the hello world function using parenthesis\n",
    "hello_world()"
   ]
  },
  {
   "cell_type": "code",
   "execution_count": null,
   "metadata": {},
   "outputs": [],
   "source": [
    "# what happens if you don't use parenthesis?\n",
    "hello_world"
   ]
  },
  {
   "cell_type": "markdown",
   "metadata": {},
   "source": [
    "If you don't use parenthesis you only see the function object in Python. What that means exactly is not important for now."
   ]
  },
  {
   "cell_type": "markdown",
   "metadata": {},
   "source": [
    "### Assignment 1\n",
    "Print a hello world with your name so that it looks like: `hello Bas!`.\n",
    "\n",
    "Do the following:\n",
    "- change the function so that it prints your name\n",
    "- call the function"
   ]
  },
  {
   "cell_type": "code",
   "execution_count": null,
   "metadata": {},
   "outputs": [],
   "source": [
    "# feel free to change the function's name\n",
    "def hello_yourname():\n",
    "    # change the line below to include your name\n",
    "    print(\"hello world!\")"
   ]
  },
  {
   "cell_type": "code",
   "execution_count": null,
   "metadata": {},
   "outputs": [],
   "source": [
    "# call the function:\n"
   ]
  },
  {
   "cell_type": "markdown",
   "metadata": {},
   "source": [
    "### Assignment 2\n",
    "There are several ways to include variables in strings in Python. In this notebook only f-strings will be presented. \n",
    "\n",
    "Refer also to the documentation online on [f-strings](https://www.python.org/dev/peps/pep-0498/).\n"
   ]
  },
  {
   "cell_type": "code",
   "execution_count": null,
   "metadata": {},
   "outputs": [],
   "source": [
    "def hello_fstring():\n",
    "    # change the line below to your name\n",
    "    name = \"change this\"\n",
    "    print(f\"Hello {name}!\")"
   ]
  },
  {
   "cell_type": "code",
   "execution_count": null,
   "metadata": {},
   "outputs": [],
   "source": [
    "hello_fstring()"
   ]
  },
  {
   "cell_type": "markdown",
   "metadata": {},
   "source": [
    "### Assignment 3"
   ]
  },
  {
   "cell_type": "markdown",
   "metadata": {},
   "source": [
    "Use an input string to write a name.\n",
    "\n",
    "Input strings are useful because that way you can use a function for many different input values.\n",
    "\n",
    "Fix the function `hello_input` and print using different names."
   ]
  },
  {
   "cell_type": "code",
   "execution_count": null,
   "metadata": {},
   "outputs": [],
   "source": [
    "# add the variable <name> in between the parenthesis below:\n",
    "def hello_input():\n",
    "    print(f\"Hello {name}!\")"
   ]
  },
  {
   "cell_type": "code",
   "execution_count": null,
   "metadata": {},
   "outputs": [],
   "source": [
    "# declare input directly\n",
    "hello_input(\"another name\") # feel free to change this name\n",
    "\n",
    "# use a variable as input\n",
    "input_name = \"Van Oord\"\n",
    "hello_input(input_name)"
   ]
  },
  {
   "cell_type": "markdown",
   "metadata": {},
   "source": [
    "### Assignment 4\n",
    "Returning output.\n",
    "\n",
    "A function can return output so that you give an input and it returns an output. In the following example you have to return the first and last name with a space in between. It is good practice to use a variable as an output name, but not strictly necessary.\n",
    "\n",
    "Fix the function below and call it using your own first and last name."
   ]
  },
  {
   "cell_type": "code",
   "execution_count": null,
   "metadata": {},
   "outputs": [],
   "source": [
    "# how do you return first_name + last_name as output?\n",
    "# How do you make sure there is a space in between the two names?\n",
    "def hello_return(first_name, last_name):\n",
    "    output_name = \n",
    "    return output_name"
   ]
  },
  {
   "cell_type": "code",
   "execution_count": null,
   "metadata": {},
   "outputs": [],
   "source": [
    "first_name = \"foo\" \n",
    "last_name = \"bar\"\n",
    "hello_return(first_name, last_name)"
   ]
  },
  {
   "cell_type": "code",
   "execution_count": null,
   "metadata": {},
   "outputs": [],
   "source": [
    "# how do you store the output_name that the function hello_return returns?\n",
    "# store the output name as full_name below:\n",
    "full_name = "
   ]
  },
  {
   "cell_type": "markdown",
   "metadata": {},
   "source": [
    "### Assignment 5\n",
    "\n",
    "Calling functions inside functions.\n",
    "\n",
    "You can call a function that has been previously defined inside another function. Try calling `hello_super_function`."
   ]
  },
  {
   "cell_type": "code",
   "execution_count": null,
   "metadata": {},
   "outputs": [],
   "source": [
    "def hello_super_function(first_name, last_name):\n",
    "    \"\"\"\n",
    "    A function that calls all other hello functions\n",
    "    \n",
    "    You will see these lines if you type help(hello_super_function)\n",
    "    \n",
    "    The function takes the first_name and last_name and returns them as one string.\n",
    "    \n",
    "    Requires the following inputs:\n",
    "        first_name: string variable\n",
    "        last_name: string variable\n",
    "    \n",
    "    Return output_name as a string\n",
    "    \"\"\"\n",
    "    hello_world()\n",
    "    hello_yourname()\n",
    "    hello_fstring()\n",
    "    output_name = hello_return(first_name, last_name)\n",
    "    hello_input(output_name)\n",
    "    return output_name"
   ]
  },
  {
   "cell_type": "code",
   "execution_count": null,
   "metadata": {},
   "outputs": [],
   "source": [
    "# call the function\n",
    "hello_super_function(first_name, last_name)"
   ]
  },
  {
   "cell_type": "code",
   "execution_count": null,
   "metadata": {},
   "outputs": [],
   "source": [
    "# what do you see when you call help on this function?\n",
    "help(hello_super_function)"
   ]
  },
  {
   "cell_type": "markdown",
   "metadata": {},
   "source": [
    "Help functions are important for other people to understand your code. You can also use help on other functions and objects. \n",
    "\n",
    "Usually functions and classes are well documented in Python. However this depends on who wrote the code. The Orcaflex functions are not very well documented for example.\n",
    "\n",
    "See for example the help on an integer number below:"
   ]
  },
  {
   "cell_type": "code",
   "execution_count": null,
   "metadata": {},
   "outputs": [],
   "source": [
    "help(9)"
   ]
  },
  {
   "cell_type": "code",
   "execution_count": null,
   "metadata": {},
   "outputs": [],
   "source": []
  }
 ],
 "metadata": {
  "kernelspec": {
   "display_name": "Python 3",
   "language": "python",
   "name": "python3"
  },
  "language_info": {
   "codemirror_mode": {
    "name": "ipython",
    "version": 3
   },
   "file_extension": ".py",
   "mimetype": "text/x-python",
   "name": "python",
   "nbconvert_exporter": "python",
   "pygments_lexer": "ipython3",
   "version": "3.8.5"
  }
 },
 "nbformat": 4,
 "nbformat_minor": 4
}
